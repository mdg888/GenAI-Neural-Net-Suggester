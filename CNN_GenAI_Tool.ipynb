{
  "cells": [
    {
      "cell_type": "code",
      "execution_count": 1,
      "metadata": {
        "id": "5tzUhMOpsqrY"
      },
      "outputs": [],
      "source": [
        "import numpy as np\n",
        "import tensorflow as tf\n",
        "from tensorflow import keras\n",
        "from tensorflow.keras import layers\n",
        "import pandas as pd"
      ]
    },
    {
      "cell_type": "code",
      "execution_count": 2,
      "metadata": {
        "colab": {
          "base_uri": "https://localhost:8080/"
        },
        "id": "9MfUV0_xst38",
        "outputId": "f5ab4f8b-4aa7-49f5-91f7-13b217f64688"
      },
      "outputs": [
        {
          "name": "stdout",
          "output_type": "stream",
          "text": [
            "Num GPUs Available:  0\n",
            "No GPU available, using CPU\n"
          ]
        }
      ],
      "source": [
        "# Check if GPU is available\n",
        "print(\"Num GPUs Available: \", len(tf.config.list_physical_devices('GPU')))\n",
        "\n",
        "# Get GPU details\n",
        "if tf.config.list_physical_devices('GPU'):\n",
        "    print(\"GPU is available!\")\n",
        "    print(tf.config.list_physical_devices('GPU'))\n",
        "else:\n",
        "    print(\"No GPU available, using CPU\")"
      ]
    },
    {
      "cell_type": "code",
      "execution_count": 3,
      "metadata": {
        "colab": {
          "base_uri": "https://localhost:8080/",
          "height": 374
        },
        "id": "jCDtupXDsucY",
        "outputId": "eb867ff6-0d40-49c1-ff3c-3c59bd5aa586"
      },
      "outputs": [
        {
          "name": "stdout",
          "output_type": "stream",
          "text": [
            "Training data shape: (20000, 28, 28)\n",
            "Training labels shape: (20000, 2)\n",
            "Test data shape: (3000, 28, 28)\n"
          ]
        }
      ],
      "source": [
        "# Load your data\n",
        "# Upload your .npy files to Colab first, then load them\n",
        "data = np.load('data\\mnist_data.npz')  # Shape: (20000, 32, 32, 3)\n",
        "\n",
        "x_train = data['x_train']\n",
        "y_train = data['y_train']\n",
        "x_test = data['x_test']\n",
        "\n",
        "# Normalize pixel values to [0, 1]\n",
        "x_train = x_train.astype('float32') / 255.0\n",
        "x_test = x_test.astype('float32') / 255.0\n",
        "\n",
        "# Convert labels to categorical (one-hot encoding)\n",
        "num_classes = 10\n",
        "y_train_cat = keras.utils.to_categorical(y_train[:,1], num_classes)\n",
        "\n",
        "print(f\"Training data shape: {x_train.shape}\")\n",
        "print(f\"Training labels shape: {y_train.shape}\")\n",
        "print(f\"Test data shape: {x_test.shape}\")\n",
        "\n"
      ]
    },
    {
      "cell_type": "code",
      "execution_count": 4,
      "metadata": {
        "colab": {
          "base_uri": "https://localhost:8080/"
        },
        "id": "WkGoimtnjldx",
        "outputId": "b8ade49e-022c-4f28-fdeb-f9e2c50b56b1"
      },
      "outputs": [],
      "source": [
        "from tensorflow.keras.datasets import cifar10\n",
        "\n",
        "(x_train, y_train), (x_test, y_test) = cifar10.load_data()\n",
        "y_train_cat = keras.utils.to_categorical(y_train, num_classes= 10)\n",
        "\n",
        "# normalised the data\n",
        "x_train = x_train.astype('float32') / 255.0\n",
        "x_test = x_test.astype('float32') / 255.0"
      ]
    },
    {
      "cell_type": "markdown",
      "metadata": {},
      "source": [
        "### Split training into training and validation sets"
      ]
    },
    {
      "cell_type": "code",
      "execution_count": 5,
      "metadata": {
        "colab": {
          "base_uri": "https://localhost:8080/"
        },
        "id": "vxgg40essu05",
        "outputId": "8161b3c9-3841-4d4f-ae54-a4e0ad61b471"
      },
      "outputs": [
        {
          "name": "stdout",
          "output_type": "stream",
          "text": [
            "(40000, 10)\n",
            "(50000, 32, 32, 3)\n",
            "(10000, 32, 32, 3)\n"
          ]
        }
      ],
      "source": [
        "# SPLIT INTO TRAIN AND VALIDATION SETS\n",
        "from sklearn.model_selection import train_test_split\n",
        "y_train_cat = keras.utils.to_categorical(y_train, num_classes = 10)\n",
        "\n",
        "# Split training data: 80% train, 20% validation\n",
        "X_train, X_val, y_train, y_val = train_test_split(\n",
        "    x_train, y_train_cat,\n",
        "    test_size=0.2,\n",
        "    random_state=42\n",
        ")\n",
        "\n",
        "print(y_train.shape)\n",
        "print(x_train.shape)\n",
        "print(x_test.shape)"
      ]
    },
    {
      "cell_type": "code",
      "execution_count": 9,
      "metadata": {
        "colab": {
          "base_uri": "https://localhost:8080/"
        },
        "id": "tCbDHC3CsuuF",
        "outputId": "1c7309ca-3fad-4b6b-c04c-99d0b21f8a90"
      },
      "outputs": [],
      "source": [
        "from tensorflow.keras.models import Sequential\n",
        "from tensorflow.keras.layers import Dense, Conv2D, MaxPool2D, Flatten, Dropout, BatchNormalization\n",
        "\n",
        "kernel_size = (3, 3)\n",
        "model = Sequential()\n",
        "\n",
        "# Convolutional Layer\n",
        "model.add(Conv2D(filters=32, kernel_size=kernel_size, input_shape=(32, 32, 3), activation='relu', padding='same'))\n",
        "model.add(BatchNormalization())\n",
        "model.add(Conv2D(filters=32, kernel_size=kernel_size, input_shape=(32, 32, 3), activation='relu', padding='same'))\n",
        "model.add(BatchNormalization())\n",
        "# Pooling layer\n",
        "model.add(MaxPool2D(pool_size=(2, 2)))\n",
        "# Dropout layers\n",
        "model.add(Dropout(0.25))\n",
        "\n",
        "model.add(Conv2D(filters=32, kernel_size=kernel_size, input_shape=(32, 32, 3), activation='relu', padding='same'))\n",
        "model.add(BatchNormalization())\n",
        "model.add(Conv2D(filters=64, kernel_size=kernel_size, input_shape=(32, 32, 3), activation='relu', padding='same'))\n",
        "model.add(MaxPool2D(pool_size=(2, 2)))\n",
        "\n",
        "model.add(Flatten())\n",
        "model.add(Dense(512, activation='relu'))\n",
        "model.add(Dropout(0.25))\n",
        "model.add(Dense(10, activation='softmax'))\n",
        "\n",
        "model.compile(loss='categorical_crossentropy', optimizer='adam', metrics=['accuracy'])"
      ]
    },
    {
      "cell_type": "code",
      "execution_count": 7,
      "metadata": {
        "id": "J0GG2d4gVcBu"
      },
      "outputs": [],
      "source": [
        "from tensorflow.keras.models import Sequential\n",
        "from tensorflow.keras.layers import Dense, Conv2D, MaxPool2D, Flatten, Dropout, BatchNormalization\n",
        "\n",
        "kernel_size = (3, 3)\n",
        "model = Sequential()\n",
        "\n",
        "# Convolutional Layer\n",
        "model.add(Conv2D(filters=32, kernel_size=kernel_size, input_shape=(32, 32, 3), activation='relu', padding='same'))\n",
        "model.add(BatchNormalization())\n",
        "model.add(Conv2D(filters=32, kernel_size=kernel_size, input_shape=(32, 32, 3), activation='relu', padding='same'))\n",
        "model.add(BatchNormalization())\n",
        "# Pooling layer\n",
        "model.add(MaxPool2D(pool_size=(2, 2)))\n",
        "# Dropout layers\n",
        "model.add(Dropout(0.25))\n",
        "\n",
        "model.add(Conv2D(filters=32, kernel_size=kernel_size, input_shape=(32, 32, 3), activation='relu', padding='same'))\n",
        "model.add(BatchNormalization())\n",
        "model.add(Conv2D(filters=32, kernel_size=kernel_size, input_shape=(32, 32, 3), activation='relu', padding='same'))\n",
        "model.add(MaxPool2D(pool_size=(2, 2)))\n",
        "\n",
        "# Convolutional Layer\n",
        "model.add(Conv2D(filters=32, kernel_size=kernel_size, input_shape=(32, 32, 3), activation='relu', padding='same'))\n",
        "model.add(BatchNormalization())\n",
        "model.add(Conv2D(filters=64, kernel_size=kernel_size, input_shape=(32, 32, 3), activation='relu', padding='same'))\n",
        "model.add(BatchNormalization())\n",
        "# Pooling layer\n",
        "model.add(MaxPool2D(pool_size=(2, 2)))\n",
        "# Dropout layers\n",
        "model.add(Dropout(0.25))\n",
        "\n",
        "model.add(Flatten())\n",
        "model.add(Dense(512, activation='relu'))\n",
        "model.add(Dropout(0.25))\n",
        "model.add(Dense(10, activation='softmax'))\n",
        "\n",
        "model.compile(loss='categorical_crossentropy', optimizer='adam', metrics=['accuracy'])"
      ]
    },
    {
      "cell_type": "code",
      "execution_count": 8,
      "metadata": {
        "colab": {
          "base_uri": "https://localhost:8080/"
        },
        "id": "z4xhuxBVl0d0",
        "outputId": "6e56d656-ab1d-4b79-e284-c5b81ca99510"
      },
      "outputs": [
        {
          "name": "stderr",
          "output_type": "stream",
          "text": [
            "C:\\Users\\micha\\AppData\\Roaming\\Python\\Python311\\site-packages\\keras\\src\\layers\\activations\\leaky_relu.py:41: UserWarning: Argument `alpha` is deprecated. Use `negative_slope` instead.\n",
            "  warnings.warn(\n"
          ]
        }
      ],
      "source": [
        "from tensorflow.keras.models import Sequential\n",
        "from tensorflow.keras.layers import Dense, Conv2D, MaxPool2D, Flatten, Dropout, BatchNormalization, LeakyReLU\n",
        "\n",
        "kernel_size = (5, 5)\n",
        "model = Sequential()\n",
        "filter = 32\n",
        "deep_filter = 64\n",
        "deep_deep_filter = 96\n",
        "deep_deep_deep_filter = 128\n",
        "\n",
        "# Convolutional Layer\n",
        "model.add(Conv2D(filters=filter, kernel_size=kernel_size, input_shape=(32, 32, 3), activation=LeakyReLU(alpha=0.1), padding='same'))\n",
        "model.add(BatchNormalization())\n",
        "model.add(Conv2D(filters=filter, kernel_size=kernel_size, input_shape=(32, 32, 3), activation=LeakyReLU(alpha=0.1), padding='same'))\n",
        "model.add(BatchNormalization())\n",
        "# Pooling layer\n",
        "model.add(MaxPool2D(pool_size=(2, 2)))\n",
        "# Dropout layers\n",
        "model.add(Dropout(0.5))\n",
        "\n",
        "model.add(Conv2D(filters=deep_filter, kernel_size=kernel_size, input_shape=(32, 32, 3), activation=LeakyReLU(alpha=0.1), padding='same'))\n",
        "model.add(BatchNormalization())\n",
        "model.add(Conv2D(filters=deep_filter, kernel_size=kernel_size, input_shape=(32, 32, 3), activation=LeakyReLU(alpha=0.1), padding='same'))\n",
        "model.add(MaxPool2D(pool_size=(2, 2)))\n",
        "\n",
        "model.add(Flatten())\n",
        "model.add(Dense(512, activation='relu'))\n",
        "model.add(Dropout(0.5))\n",
        "model.add(Dense(10, activation='softmax'))\n",
        "\n",
        "model.compile(loss='categorical_crossentropy', optimizer='adam', metrics=['accuracy'])"
      ]
    },
    {
      "cell_type": "markdown",
      "metadata": {},
      "source": [
        "## Early Stopping"
      ]
    },
    {
      "cell_type": "code",
      "execution_count": 12,
      "metadata": {
        "id": "ms5iEXtZsune"
      },
      "outputs": [],
      "source": [
        "## setting for early stopping\n",
        "from tensorflow.keras.callbacks import EarlyStopping\n",
        "\n",
        "early_stop = EarlyStopping(\n",
        "    monitor='val_loss',\n",
        "    patience=3,\n",
        "    restore_best_weights=True)"
      ]
    },
    {
      "cell_type": "markdown",
      "metadata": {},
      "source": [
        "## Data Augmentation"
      ]
    },
    {
      "cell_type": "code",
      "execution_count": 13,
      "metadata": {
        "id": "GuZrzRMCsuga"
      },
      "outputs": [],
      "source": [
        "## data augmentation\n",
        "from tensorflow.keras.preprocessing.image import ImageDataGenerator\n",
        "\n",
        "batch_size = 128\n",
        "data_generator = ImageDataGenerator(\n",
        "    rotation_range=15,\n",
        "    width_shift_range=0.1,\n",
        "    height_shift_range=0.1,\n",
        "    zoom_range=0.1,\n",
        "    horizontal_flip=True)\n",
        "train_generator = data_generator.flow(X_train, y_train, batch_size)\n",
        "steps_per_epoch = X_train.shape[0] // batch_size"
      ]
    },
    {
      "cell_type": "markdown",
      "metadata": {},
      "source": [
        "## Fitting the Model"
      ]
    },
    {
      "cell_type": "code",
      "execution_count": 14,
      "metadata": {
        "colab": {
          "base_uri": "https://localhost:8080/"
        },
        "id": "gi-C0mrus-lC",
        "outputId": "6458cb8d-d2da-465c-f416-7fbce83468ed"
      },
      "outputs": [
        {
          "name": "stdout",
          "output_type": "stream",
          "text": [
            "Epoch 1/5\n"
          ]
        },
        {
          "name": "stderr",
          "output_type": "stream",
          "text": [
            "C:\\Users\\micha\\AppData\\Roaming\\Python\\Python311\\site-packages\\keras\\src\\trainers\\data_adapters\\py_dataset_adapter.py:121: UserWarning: Your `PyDataset` class should call `super().__init__(**kwargs)` in its constructor. `**kwargs` can include `workers`, `use_multiprocessing`, `max_queue_size`. Do not pass these arguments to `fit()`, as they will be ignored.\n",
            "  self._warn_if_super_not_called()\n"
          ]
        },
        {
          "name": "stdout",
          "output_type": "stream",
          "text": [
            "\u001b[1m313/313\u001b[0m \u001b[32m━━━━━━━━━━━━━━━━━━━━\u001b[0m\u001b[37m\u001b[0m \u001b[1m53s\u001b[0m 163ms/step - accuracy: 0.3694 - loss: 1.8291 - val_accuracy: 0.2174 - val_loss: 2.4330\n",
            "Epoch 2/5\n",
            "\u001b[1m313/313\u001b[0m \u001b[32m━━━━━━━━━━━━━━━━━━━━\u001b[0m\u001b[37m\u001b[0m \u001b[1m65s\u001b[0m 207ms/step - accuracy: 0.5006 - loss: 1.3720 - val_accuracy: 0.5732 - val_loss: 1.1947\n",
            "Epoch 3/5\n",
            "\u001b[1m313/313\u001b[0m \u001b[32m━━━━━━━━━━━━━━━━━━━━\u001b[0m\u001b[37m\u001b[0m \u001b[1m89s\u001b[0m 283ms/step - accuracy: 0.5604 - loss: 1.2237 - val_accuracy: 0.5444 - val_loss: 1.3736\n",
            "Epoch 4/5\n",
            "\u001b[1m313/313\u001b[0m \u001b[32m━━━━━━━━━━━━━━━━━━━━\u001b[0m\u001b[37m\u001b[0m \u001b[1m66s\u001b[0m 210ms/step - accuracy: 0.5995 - loss: 1.1172 - val_accuracy: 0.6209 - val_loss: 1.1549\n",
            "Epoch 5/5\n",
            "\u001b[1m313/313\u001b[0m \u001b[32m━━━━━━━━━━━━━━━━━━━━\u001b[0m\u001b[37m\u001b[0m \u001b[1m60s\u001b[0m 191ms/step - accuracy: 0.6342 - loss: 1.0323 - val_accuracy: 0.6658 - val_loss: 0.9516\n"
          ]
        }
      ],
      "source": [
        "## Fitting the model\n",
        "epoch = 5\n",
        "r = model.fit(train_generator,\n",
        "              epochs=epoch,\n",
        "              validation_data=(X_val, y_val),\n",
        "              verbose = 1,\n",
        "              callbacks=[early_stop]\n",
        "             )"
      ]
    },
    {
      "cell_type": "markdown",
      "metadata": {},
      "source": [
        "## Training loss and accuracy"
      ]
    },
    {
      "cell_type": "code",
      "execution_count": 15,
      "metadata": {
        "colab": {
          "base_uri": "https://localhost:8080/"
        },
        "id": "ie_U7M2F1UD5",
        "outputId": "540b43ce-7245-4910-d9d5-7a55ef76bf95"
      },
      "outputs": [
        {
          "name": "stdout",
          "output_type": "stream",
          "text": [
            "\u001b[1m1250/1250\u001b[0m \u001b[32m━━━━━━━━━━━━━━━━━━━━\u001b[0m\u001b[37m\u001b[0m \u001b[1m12s\u001b[0m 10ms/step - accuracy: 0.6762 - loss: 0.9175\n",
            "Training Loss: 0.9175\n",
            "Training Accuracy: 0.6762\n",
            "\u001b[1m313/313\u001b[0m \u001b[32m━━━━━━━━━━━━━━━━━━━━\u001b[0m\u001b[37m\u001b[0m \u001b[1m4s\u001b[0m 13ms/step - accuracy: 0.6658 - loss: 0.9516\n",
            "Test Loss: 0.9516\n",
            "Test Accuracy: 0.6658\n"
          ]
        }
      ],
      "source": [
        "# Evaluate on training set\n",
        "train_loss, train_accuracy = model.evaluate(X_train, y_train)\n",
        "print(f\"Training Loss: {train_loss:.4f}\")\n",
        "print(f\"Training Accuracy: {train_accuracy:.4f}\")\n",
        "\n",
        "# Evaluate on test set\n",
        "test_loss, test_accuracy = model.evaluate(X_val, y_val)\n",
        "print(f\"Test Loss: {test_loss:.4f}\")\n",
        "print(f\"Test Accuracy: {test_accuracy:.4f}\")\n"
      ]
    },
    {
      "cell_type": "markdown",
      "metadata": {},
      "source": [
        "## GenAI Tool"
      ]
    },
    {
      "cell_type": "markdown",
      "metadata": {},
      "source": [
        "### GenAI Setup"
      ]
    },
    {
      "cell_type": "code",
      "execution_count": 16,
      "metadata": {
        "id": "lWL1wDxvdnZG"
      },
      "outputs": [],
      "source": [
        "from dotenv import load_dotenv\n",
        "import os\n",
        "\n",
        "load_dotenv(dotenv_path=\".venv/.env\")  \n",
        "api_key = os.environ.get(\"Google_API_key\")"
      ]
    },
    {
      "cell_type": "code",
      "execution_count": 17,
      "metadata": {
        "colab": {
          "base_uri": "https://localhost:8080/"
        },
        "id": "sZ8fRNR4bhZC",
        "outputId": "a3393e29-ad65-4593-edeb-fecee5ebf292"
      },
      "outputs": [
        {
          "name": "stdout",
          "output_type": "stream",
          "text": [
            "Google API Key exists and begins AI\n"
          ]
        }
      ],
      "source": [
        "from openai import OpenAI\n",
        "from IPython.display import Markdown, display\n",
        "import os\n",
        "\n",
        "\n",
        "if api_key:\n",
        "    print(f\"Google API Key exists and begins {api_key[:2]}\")\n",
        "else:\n",
        "    print(\"Google API Key not set (and this is optional)\")"
      ]
    },
    {
      "cell_type": "code",
      "execution_count": 18,
      "metadata": {
        "id": "4NkMyz9zwwob"
      },
      "outputs": [],
      "source": [
        "train_loss_val = r.history['loss']\n",
        "test_loss_val = r.history['val_loss']"
      ]
    },
    {
      "cell_type": "markdown",
      "metadata": {},
      "source": [
        "### GenAI Prompt"
      ]
    },
    {
      "cell_type": "markdown",
      "metadata": {},
      "source": [
        "Generating a Prompt for The AI to understand full context of the model and the dataset."
      ]
    },
    {
      "cell_type": "code",
      "execution_count": 19,
      "metadata": {
        "colab": {
          "base_uri": "https://localhost:8080/"
        },
        "id": "T7M85hVvWfUy",
        "outputId": "750dee3d-8bde-4755-88b8-1351bfa48f98"
      },
      "outputs": [],
      "source": [
        "def generate_feedback_prompt(\n",
        "    model_summary,\n",
        "    training_history,\n",
        "    num_classes=10,\n",
        "    input_shape=\"32x32x3\",\n",
        "    num_train_samples=50000,\n",
        "    num_val_samples=10000,\n",
        "    optimizer=\"adam\",\n",
        "    learning_rate=None,\n",
        "    loss_function=\"categorical_crossentropy\",\n",
        "    batch_size=batch_size,\n",
        "    epochs_trained=epoch,\n",
        "    train_accuracy=train_accuracy,\n",
        "    val_accuracy=test_accuracy,\n",
        "    train_loss=train_loss,\n",
        "    val_loss=test_loss_val[-1],\n",
        "    total_params=model.count_params(),\n",
        "    regularization_used=None,\n",
        "    data_augmentation=True,\n",
        "    early_stopping_used=True,\n",
        "    additional_context=\"\"\n",
        "):\n",
        "    prompt = f\"\"\"\n",
        "You are acting as an **automated deep learning optimization assistant**.\n",
        "Your task is to analyze a CNN trained on the **CIFAR-10 dataset** (60,000 32x32x3 images across 10 classes), and provide **expert-level feedback** to help the user improve model performance, reduce overfitting, and optimize architecture and training choices.\n",
        "\n",
        "Below is the full model and training context:\n",
        "\n",
        "### 📘 MODEL DETAILS\n",
        "{model_summary}\n",
        "\n",
        "- Total parameters: {total_params}\n",
        "- Input shape: {input_shape}\n",
        "- Number of classes: {num_classes}\n",
        "\n",
        "### ⚙️ TRAINING CONFIGURATION\n",
        "- Optimizer: {optimizer}\n",
        "- Learning rate: {learning_rate}\n",
        "- Loss function: {loss_function}\n",
        "- Batch size: {batch_size}\n",
        "- Epochs trained: {epochs_trained}\n",
        "- Regularization used: {regularization_used}\n",
        "- Data augmentation: {data_augmentation}\n",
        "- Early stopping used: {early_stopping_used}\n",
        "\n",
        "### 📊 DATASET INFO\n",
        "- Training samples: {num_train_samples}\n",
        "- Validation/test samples: {num_val_samples}\n",
        "\n",
        "### 📈 TRAINING PERFORMANCE\n",
        "- Final training accuracy: {train_accuracy}\n",
        "- Final validation accuracy: {val_accuracy}\n",
        "- Final training loss: {train_loss}\n",
        "- Final validation loss: {val_loss}\n",
        "\n",
        "### 🧠 TRAINING HISTORY (partial or full log)\n",
        "{training_history}\n",
        "\n",
        "### 💬 ADDITIONAL CONTEXT / CONSTRAINTS\n",
        "{additional_context}\n",
        "\n",
        "---\n",
        "\n",
        "### 🧩 YOUR TASK\n",
        "Provide **targeted, actionable recommendations** to improve the CNN model based on the provided context.\n",
        "Include detailed reasoning for each suggestion.\n",
        "\n",
        "Focus your analysis on:\n",
        "1. **Architecture improvements** – e.g., depth, convolutional filter size, number of filters, activation functions, skip connections, and normalization.\n",
        "2. **Regularization & generalization** – e.g., dropout, batch normalization, data augmentation, L2 weight decay, label smoothing.\n",
        "3. **Optimizer and training schedule** – suggest changes like learning rate decay, adaptive optimizers, or cyclical learning rates.\n",
        "4. **Training diagnostics** – identify overfitting, underfitting, or vanishing gradients from performance trends.\n",
        "5. **Parameter efficiency** – if model is over-parameterized or under-powered.\n",
        "6. **Augmentation & preprocessing** – improvements to data pipeline or normalization.\n",
        "7. **Metric-based advice** – respond intelligently to differences between training and validation accuracy/loss.\n",
        "\n",
        "Each suggestion needs a ranking e.g. high, medium and low, base this on importance of suggestion. \n",
        "\n",
        "Output your response in a dot point form with the following keys:\n",
        "\n",
        "\"\"\"\n",
        "    return prompt\n",
        "\n",
        "\n",
        "messages = [{\"role\": \"user\", \"content\": generate_feedback_prompt(\n",
        "    model.get_config(),\n",
        "    model.history.history)\n",
        "}]"
      ]
    },
    {
      "cell_type": "markdown",
      "metadata": {},
      "source": [
        "### Calling GenAI to Assess ML Model"
      ]
    },
    {
      "cell_type": "code",
      "execution_count": 20,
      "metadata": {
        "colab": {
          "base_uri": "https://localhost:8080/",
          "height": 1000
        },
        "id": "33CirJ7qbxou",
        "outputId": "d28135e1-6057-4efb-c09c-3885af266acb"
      },
      "outputs": [
        {
          "data": {
            "text/markdown": [
              "Okay, I will analyze the provided CNN architecture and training configuration for the CIFAR-10 dataset and provide actionable recommendations to improve its performance.\n",
              "\n",
              "Here's my analysis and suggestions:\n",
              "\n",
              "*   **Overall Assessment:** The model shows a significant gap between training and validation accuracy, indicating overfitting. The validation accuracy plateaus after epoch 4, suggesting early stopping is working. However, the final accuracy of 66.6% is relatively low, indicating room for improvement in both model architecture and training strategy.\n",
              "\n",
              "**Recommendations:**\n",
              "\n",
              "*   **Architecture Improvements:**\n",
              "\n",
              "    *   **Increase Model Depth and Complexity (Medium):** The model is relatively shallow. Consider adding more convolutional layers and increasing the number of filters in later layers (e.g., 32 -> 64 -> 128). This allows the model to learn more complex features.\n",
              "        *   **Reasoning:** CIFAR-10 is a moderately complex dataset. Deeper networks can capture more intricate patterns. However, with depth comes a higher risk of overfitting, so regularization becomes even more crucial.\n",
              "\n",
              "    *   **Consider adding another Max Pooling Layer (Low):** Add an additional `Conv2D -> BatchNormalization -> Conv2D -> BatchNormalization -> MaxPooling2D` block to further reduce spatial dimensions.\n",
              "        *   **Reasoning:** Helps further reduce spatial dimensions.\n",
              "\n",
              "    *   **Explore different activation functions (Low):** While ReLU is generally effective, explore alternatives like LeakyReLU or ELU.\n",
              "        *   **Reasoning:** These activations can help mitigate the vanishing gradient problem, especially in deeper networks.\n",
              "\n",
              "    *   **Consider Residual Connections (Low):** Implementing residual connections (skip connections) can improve gradient flow in deeper networks and potentially improve performance.\n",
              "        *   **Reasoning:** Residual connections enable the model to learn identity mappings, making optimization easier and allowing for deeper architectures.\n",
              "\n",
              "*   **Regularization & Generalization:**\n",
              "\n",
              "    *   **Increase Dropout Rate (High):** Increase the dropout rate in the existing Dropout layers (e.g., from 0.25 to 0.4 or 0.5). Consider adding dropout *before* the flattening layer.\n",
              "        *   **Reasoning:** This helps prevent overfitting by randomly dropping neurons during training, forcing the network to learn more robust features.\n",
              "\n",
              "    *   **Implement L2 Regularization (Weight Decay) (Medium):** Add L2 regularization to the convolutional and dense layers.\n",
              "        *   **Reasoning:** L2 regularization penalizes large weights, further preventing overfitting. Can be implemented via `kernel_regularizer` argument in layers.\n",
              "\n",
              "    *   **Enhance Data Augmentation (Medium):** Expand the data augmentation techniques. Besides the existing augmentation, include augmentations like random crops, rotations, shear transformations, and color jittering.\n",
              "        *   **Reasoning:** More aggressive data augmentation helps the model generalize better to unseen data.\n",
              "\n",
              "    *   **Label Smoothing (Low):** Experiment with label smoothing.\n",
              "        *   **Reasoning:** Label smoothing reduces the model's confidence in its predictions, leading to better generalization.\n",
              "\n",
              "*   **Optimizer and Training Schedule:**\n",
              "\n",
              "    *   **Implement Learning Rate Decay (High):** Implement a learning rate decay schedule. This could be a step decay, exponential decay, or cosine annealing.\n",
              "        *   **Reasoning:** Starting with a higher learning rate and gradually reducing it can help the model converge faster and find a better minimum.\n",
              "\n",
              "    *   **Experiment with Different Optimizers (Medium):** While Adam is a good default, experiment with other optimizers like SGD with momentum or RMSprop.\n",
              "        *   **Reasoning:** Different optimizers might be better suited for this specific task and model architecture.\n",
              "        *   **Example:** SGD with a learning rate of 0.01 and a momentum of 0.9 is a good starting point to try.\n",
              "\n",
              "    *   **Increase the number of epochs (Medium):** The model was only trained for 5 epochs and the model was still learning, increase this to 25 to 50 epochs.\n",
              "        *   **Reasoning:** Early stopping will kick in to stop training once the model is no longer learning.\n",
              "\n",
              "*   **Training Diagnostics:**\n",
              "\n",
              "    *   **Monitor Training/Validation Curves Closely (High):** Pay close attention to the training and validation loss and accuracy curves during training. This will help you identify overfitting or underfitting early on and adjust the regularization and training schedule accordingly.\n",
              "        *   **Reasoning:** This is crucial for understanding the model's behavior and making informed decisions.\n",
              "\n",
              "*   **Parameter Efficiency:**\n",
              "\n",
              "    *   **Consider Separable Convolutions (Low):** For reducing the number of parameters, explore using depthwise separable convolutions, especially in the earlier layers.\n",
              "        *   **Reasoning:** Separable convolutions can significantly reduce the number of parameters while maintaining similar performance.\n",
              "\n",
              "*   **Augmentation & Preprocessing:**\n",
              "\n",
              "    *   **Standardize/Normalize Pixel Values (High):** Ensure pixel values are properly normalized (e.g., scaling them to the range [0, 1] or standardizing them to have zero mean and unit variance).\n",
              "        *   **Reasoning:** Normalizing pixel values can improve the training process and lead to better convergence.\n",
              "\n",
              "*   **Metric-based Advice:**\n",
              "\n",
              "    *   **Address Overfitting Directly (High):** The significant difference between training and validation accuracy is a clear indicator of overfitting. The above regularization techniques are all aimed at mitigating this. Prioritize regularization techniques to combat overfitting.\n",
              "        *   **Reasoning:** Closing the gap between training and validation performance is essential for improving generalization.\n"
            ],
            "text/plain": [
              "<IPython.core.display.Markdown object>"
            ]
          },
          "metadata": {},
          "output_type": "display_data"
        }
      ],
      "source": [
        "gemini = OpenAI(api_key=api_key, base_url=\"https://generativelanguage.googleapis.com/v1beta/openai/\")\n",
        "model_name = \"gemini-2.0-flash\"\n",
        "\n",
        "response = gemini.chat.completions.create(model=model_name, messages=messages)\n",
        "answer = response.choices[0].message.content\n",
        "\n",
        "display(Markdown(answer))"
      ]
    },
    {
      "cell_type": "code",
      "execution_count": 22,
      "metadata": {
        "colab": {
          "base_uri": "https://localhost:8080/",
          "height": 256
        },
        "id": "h7ZRLKZUsuVb",
        "outputId": "2fd5329e-9a69-4ecc-a4f8-2d044448b83a"
      },
      "outputs": [
        {
          "name": "stderr",
          "output_type": "stream",
          "text": [
            "Matplotlib is building the font cache; this may take a moment.\n"
          ]
        },
        {
          "data": {
            "text/plain": [
              "Text(0.5, 1.0, 'Accuracy evolution')"
            ]
          },
          "execution_count": 22,
          "metadata": {},
          "output_type": "execute_result"
        },
        {
          "data": {
            "image/png": "[encoded data removed]",
            "text/plain": [
              "<Figure size 1200x800 with 2 Axes>"
            ]
          },
          "metadata": {},
          "output_type": "display_data"
        }
      ],
      "source": [
        "import matplotlib.pyplot as plt\n",
        "plt.figure(figsize=(12, 8))\n",
        "\n",
        "plt.subplot(2, 2, 1)\n",
        "plt.plot(r.history['loss'], label='Loss')\n",
        "plt.plot(r.history['val_loss'], label='val_Loss')\n",
        "plt.legend()\n",
        "plt.title('Loss evolution')\n",
        "\n",
        "plt.subplot(2, 2, 2)\n",
        "plt.plot(r.history['accuracy'], label='accuracy')\n",
        "plt.plot(r.history['val_accuracy'], label='val_accuracy')\n",
        "plt.legend()\n",
        "plt.title('Accuracy evolution')"
      ]
    },
    {
      "cell_type": "code",
      "execution_count": null,
      "metadata": {
        "colab": {
          "base_uri": "https://localhost:8080/"
        },
        "id": "a2A5ihA8tPep",
        "outputId": "adc51668-57c8-4ee3-c23a-1cfd86f528d0"
      },
      "outputs": [
        {
          "name": "stdout",
          "output_type": "stream",
          "text": [
            "\u001b[1m94/94\u001b[0m \u001b[32m━━━━━━━━━━━━━━━━━━━━\u001b[0m\u001b[37m\u001b[0m \u001b[1m2s\u001b[0m 13ms/step\n"
          ]
        }
      ],
      "source": [
        "# Make predictions on test set\n",
        "predictions = model.predict(x_test)"
      ]
    },
    {
      "cell_type": "code",
      "execution_count": null,
      "metadata": {
        "id": "qemjnaGbtQhU"
      },
      "outputs": [],
      "source": [
        "# Create ID column\n",
        "ids = np.arange(20001, 20001 + len(predictions)).reshape(-1, 1)\n",
        "\n",
        "# Concatenate ID column with predictions\n",
        "results = np.concatenate([ids, predictions], axis=1)\n",
        "\n",
        "# Convert to DataFrame with column names\n",
        "column_names = ['ID'] + [f'Class{i}' for i in range(predictions.shape[1])]\n",
        "results_df = pd.DataFrame(results, columns=column_names)\n",
        "\n"
      ]
    },
    {
      "cell_type": "code",
      "execution_count": null,
      "metadata": {
        "colab": {
          "base_uri": "https://localhost:8080/"
        },
        "id": "HQPpSxvbtRRK",
        "outputId": "75b85351-8966-434e-c61a-5360fe03caa9"
      },
      "outputs": [
        {
          "name": "stderr",
          "output_type": "stream",
          "text": [
            "WARNING:absl:You are saving your model as an HDF5 file via `model.save()` or `keras.saving.save_model(model)`. This file format is considered legacy. We recommend using instead the native Keras format, e.g. `model.save('my_model.keras')` or `keras.saving.save_model(model, 'my_model.keras')`. \n"
          ]
        },
        {
          "name": "stdout",
          "output_type": "stream",
          "text": [
            "\n",
            "First 10 predictions:\n",
            "      ID        Class0    Class1        Class2        Class3        Class4  \\\n",
            "0  20001  3.955708e-05  0.000012  4.759216e-02  5.788257e-03  8.210395e-02   \n",
            "1  20002  1.443286e-07  0.999674  2.352326e-09  4.889082e-09  1.173484e-10   \n",
            "2  20003  2.945889e-03  0.000493  2.028191e-01  2.921101e-02  1.918954e-01   \n",
            "3  20004  2.776332e-04  0.000109  2.584400e-02  5.533613e-01  1.553768e-02   \n",
            "4  20005  3.241180e-04  0.003362  2.418623e-02  2.637264e-01  4.796295e-01   \n",
            "5  20006  1.643343e-03  0.000005  2.389097e-02  1.203796e-02  8.810790e-01   \n",
            "6  20007  1.881667e-01  0.004473  2.451628e-02  7.070147e-01  3.795098e-03   \n",
            "7  20008  2.142021e-01  0.002144  2.316307e-01  6.000803e-03  1.384636e-01   \n",
            "8  20009  2.242879e-05  0.000058  8.702299e-08  8.490134e-07  2.016161e-10   \n",
            "9  20010  1.050079e-08  0.999109  9.923616e-12  5.414306e-11  6.399272e-14   \n",
            "\n",
            "         Class5        Class6        Class7        Class8    Class9  \n",
            "0  3.434508e-02  9.767968e-03  8.203292e-01  4.555613e-06  0.000018  \n",
            "1  1.119889e-11  2.640576e-10  7.405552e-10  2.612908e-08  0.000326  \n",
            "2  3.186816e-02  5.130815e-01  2.689292e-02  2.990153e-04  0.000494  \n",
            "3  1.921820e-01  2.065982e-01  5.900530e-03  1.311521e-04  0.000059  \n",
            "4  3.288546e-02  2.341750e-03  1.825418e-01  4.274096e-03  0.006729  \n",
            "5  5.581566e-02  6.144423e-04  2.474857e-02  6.923988e-05  0.000096  \n",
            "6  5.308751e-02  1.392699e-02  3.859234e-03  6.789619e-05  0.001092  \n",
            "7  1.397216e-02  1.064009e-03  3.898706e-01  9.996317e-05  0.002553  \n",
            "8  4.896570e-08  3.651220e-07  2.090425e-08  1.875567e-04  0.999731  \n",
            "9  1.537477e-12  2.130782e-10  8.220111e-12  2.129213e-07  0.000890  \n",
            "\n",
            "Model saved to 'resnet_model.h5'\n"
          ]
        }
      ],
      "source": [
        "# Save to CSV\n",
        "# Convert ID column to integer type\n",
        "results_df['ID'] = results_df['ID'].astype(int)\n",
        "results_df.to_csv(\"CNN-submission-pt2.csv\", index=False)\n",
        "\n",
        "# Display first few predictions\n",
        "print(\"\\nFirst 10 predictions:\")\n",
        "print(results_df.head(10))\n",
        "\n",
        "# Optional: Save the model\n",
        "model.save('resnet_model.h5')\n",
        "print(\"\\nModel saved to 'resnet_model.h5'\")"
      ]
    }
  ],
  "metadata": {
    "accelerator": "GPU",
    "colab": {
      "gpuType": "T4",
      "provenance": []
    },
    "kernelspec": {
      "display_name": "Python 3",
      "language": "python",
      "name": "python3"
    },
    "language_info": {
      "codemirror_mode": {
        "name": "ipython",
        "version": 3
      },
      "file_extension": ".py",
      "mimetype": "text/x-python",
      "name": "python",
      "nbconvert_exporter": "python",
      "pygments_lexer": "ipython3",
      "version": "3.11.5"
    }
  },
  "nbformat": 4,
  "nbformat_minor": 0
}
